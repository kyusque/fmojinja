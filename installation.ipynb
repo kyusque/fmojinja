{
 "cells": [
  {
   "cell_type": "markdown",
   "metadata": {},
   "source": [
    "# Installation\n",
    "\n",
    "\n",
    "## Installation in a command-line shell\n",
    "\n",
    "```bash\n",
    "pip install git+https://github.com/physchemstar/fmojinja\n",
    "```\n",
    "\n",
    "or\n",
    "\n",
    "```bash\n",
    "git clone https://github.com/physchemstar/fmojinja\n",
    "cd fmojinja\n",
    "pip install -e .\n",
    "```\n",
    "\n",
    "\n",
    "## Installation in a Jupyter Notebook"
   ]
  },
  {
   "cell_type": "code",
   "execution_count": 1,
   "metadata": {
    "execution": {
     "iopub.execute_input": "2021-08-02T01:43:34.015872Z",
     "iopub.status.busy": "2021-08-02T01:43:34.014301Z",
     "iopub.status.idle": "2021-08-02T01:43:37.084482Z",
     "shell.execute_reply": "2021-08-02T01:43:37.085422Z"
    }
   },
   "outputs": [
    {
     "name": "stdout",
     "output_type": "stream",
     "text": [
      "Collecting git+https://github.com/physchemstar/fmojinja\r\n",
      "  Cloning https://github.com/physchemstar/fmojinja to /private/var/folders/nw/2kgc3k852755dtjv0mfm05z00000gn/T/pip-req-build-e_7e3cke\r\n",
      "  Running command git clone -q https://github.com/physchemstar/fmojinja /private/var/folders/nw/2kgc3k852755dtjv0mfm05z00000gn/T/pip-req-build-e_7e3cke\r\n"
     ]
    },
    {
     "name": "stdout",
     "output_type": "stream",
     "text": [
      "Requirement already satisfied: jinja2 in /opt/miniconda3/envs/fmojinja/lib/python3.8/site-packages (from fmojinja==0.0.20210802) (3.0.0)\r\n",
      "Requirement already satisfied: pandas in /opt/miniconda3/envs/fmojinja/lib/python3.8/site-packages (from fmojinja==0.0.20210802) (1.2.4)\r\n",
      "Requirement already satisfied: numpy in /opt/miniconda3/envs/fmojinja/lib/python3.8/site-packages (from fmojinja==0.0.20210802) (1.20.2)\r\n",
      "Requirement already satisfied: pyyaml in /opt/miniconda3/envs/fmojinja/lib/python3.8/site-packages (from fmojinja==0.0.20210802) (5.4.1)\r\n",
      "Requirement already satisfied: MarkupSafe>=2.0.0rc2 in /opt/miniconda3/envs/fmojinja/lib/python3.8/site-packages (from jinja2->fmojinja==0.0.20210802) (2.0.1)\r\n",
      "Requirement already satisfied: python-dateutil>=2.7.3 in /opt/miniconda3/envs/fmojinja/lib/python3.8/site-packages (from pandas->fmojinja==0.0.20210802) (2.8.1)\r\n",
      "Requirement already satisfied: pytz>=2017.3 in /opt/miniconda3/envs/fmojinja/lib/python3.8/site-packages (from pandas->fmojinja==0.0.20210802) (2021.1)\r\n",
      "Requirement already satisfied: six>=1.5 in /opt/miniconda3/envs/fmojinja/lib/python3.8/site-packages (from python-dateutil>=2.7.3->pandas->fmojinja==0.0.20210802) (1.15.0)\r\n"
     ]
    }
   ],
   "source": [
    "!pip install git+https://github.com/physchemstar/fmojinja"
   ]
  },
  {
   "cell_type": "code",
   "execution_count": 2,
   "metadata": {
    "execution": {
     "iopub.execute_input": "2021-08-02T01:43:37.095044Z",
     "iopub.status.busy": "2021-08-02T01:43:37.093961Z",
     "iopub.status.idle": "2021-08-02T01:43:39.367776Z",
     "shell.execute_reply": "2021-08-02T01:43:39.369476Z"
    }
   },
   "outputs": [
    {
     "name": "stdout",
     "output_type": "stream",
     "text": [
      "Collecting git+https://github.com/physchemstar/fmojinja@develop\r\n",
      "  Cloning https://github.com/physchemstar/fmojinja (to revision develop) to /private/var/folders/nw/2kgc3k852755dtjv0mfm05z00000gn/T/pip-req-build-w5onds_e\r\n",
      "  Running command git clone -q https://github.com/physchemstar/fmojinja /private/var/folders/nw/2kgc3k852755dtjv0mfm05z00000gn/T/pip-req-build-w5onds_e\r\n"
     ]
    },
    {
     "name": "stdout",
     "output_type": "stream",
     "text": [
      "  Running command git checkout -b develop --track origin/develop\r\n",
      "  Switched to a new branch 'develop'\r\n",
      "  Branch 'develop' set up to track remote branch 'develop' from 'origin'.\r\n"
     ]
    },
    {
     "name": "stdout",
     "output_type": "stream",
     "text": [
      "Requirement already satisfied: jinja2 in /opt/miniconda3/envs/fmojinja/lib/python3.8/site-packages (from fmojinja==0.0.20210802) (3.0.0)\r\n",
      "Requirement already satisfied: pandas in /opt/miniconda3/envs/fmojinja/lib/python3.8/site-packages (from fmojinja==0.0.20210802) (1.2.4)\r\n",
      "Requirement already satisfied: numpy in /opt/miniconda3/envs/fmojinja/lib/python3.8/site-packages (from fmojinja==0.0.20210802) (1.20.2)\r\n",
      "Requirement already satisfied: pyyaml in /opt/miniconda3/envs/fmojinja/lib/python3.8/site-packages (from fmojinja==0.0.20210802) (5.4.1)\r\n",
      "Requirement already satisfied: MarkupSafe>=2.0.0rc2 in /opt/miniconda3/envs/fmojinja/lib/python3.8/site-packages (from jinja2->fmojinja==0.0.20210802) (2.0.1)\r\n",
      "Requirement already satisfied: python-dateutil>=2.7.3 in /opt/miniconda3/envs/fmojinja/lib/python3.8/site-packages (from pandas->fmojinja==0.0.20210802) (2.8.1)\r\n",
      "Requirement already satisfied: pytz>=2017.3 in /opt/miniconda3/envs/fmojinja/lib/python3.8/site-packages (from pandas->fmojinja==0.0.20210802) (2021.1)\r\n",
      "Requirement already satisfied: six>=1.5 in /opt/miniconda3/envs/fmojinja/lib/python3.8/site-packages (from python-dateutil>=2.7.3->pandas->fmojinja==0.0.20210802) (1.15.0)\r\n"
     ]
    }
   ],
   "source": [
    "# If you would like to use develop branch features\n",
    "!pip install git+https://github.com/physchemstar/fmojinja@develop"
   ]
  }
 ],
 "metadata": {
  "language_info": {
   "codemirror_mode": {
    "name": "ipython",
    "version": 3
   },
   "file_extension": ".py",
   "mimetype": "text/x-python",
   "name": "python",
   "nbconvert_exporter": "python",
   "pygments_lexer": "ipython3",
   "version": "3.8.10"
  }
 },
 "nbformat": 4,
 "nbformat_minor": 2
}
