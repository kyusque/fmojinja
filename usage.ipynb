{
 "cells": [
  {
   "cell_type": "markdown",
   "metadata": {},
   "source": [
    "# Usage"
   ]
  },
  {
   "cell_type": "markdown",
   "metadata": {},
   "source": [
    "## Custom input generator for FMO related programs\n",
    "\n",
    "### Command-line execution with python -m [module] option\n",
    "\n",
    "#### General usage\n",
    "\n",
    "```\n",
    "python -m fmojinja.{program} [subcommand]\n",
    "```\n",
    "\n",
    "e.g. An ajf file (for abinitmp program) only for autofragmentation generation.\n",
    "\n",
    "```bash\n",
    "python -m fmojinja.abinitmp auto --pdb test.pdb > test.ajf\n",
    "```\n",
    "\n",
    "#### Print help\n",
    "\n",
    "```\n",
    "# print a list of subcommands for {program}\n",
    "python -m fmojinja.{program} -h\n",
    "\n",
    "# print help for [subcommand] of {program}\n",
    "python -m fmojinja.{program} [subcommand] -h\n",
    "```\n",
    "\n",
    "\n",
    "## Output file reader for FMO related programs\n",
    "\n",
    "### Command-line execution with python -m [module] option\n",
    "\n",
    "#### General usage\n",
    "\n",
    "```\n",
    "python -m fmojinnja.{program}.reader\n",
    "```\n",
    "\n",
    "e.g. Reading a cpf file (abinitmp output).\n",
    "\n",
    "```bash\n",
    "python -m fmojinja.abinitmp.reader test.cpf > test.csv\n",
    "```\n",
    "\n",
    "### Importing in a python script\n",
    "\n",
    "Reader modules of fmojinja monkeypathes pandas module.\n",
    "\n",
    "They shoud be imported after pandas.\n",
    "\n",
    "```\n",
    "import pandas as pd\n",
    "import fmojinja.{program}.reader\n",
    "\n",
    "pd.read_xxx(\"test.cpf\")\n",
    "```\n"
   ]
  },
  {
   "cell_type": "code",
   "execution_count": 1,
   "metadata": {},
   "outputs": [],
   "source": [
    "import pandas as pd\n",
    "import fmojinja.abinitmp.reader # monky patch for pandas\n",
    "\n",
    "# pd.read_cpf(\"data.cpf\")"
   ]
  }
 ],
 "metadata": {
  "kernelspec": {
   "display_name": "Python 3.7.10 64-bit ('base': conda)",
   "name": "python3710jvsc74a57bd0569d6b7e9215e11aba41c6454007e5c1b78bad7df09dab765d8cf00362c40f03"
  },
  "language_info": {
   "codemirror_mode": {
    "name": "ipython",
    "version": 3
   },
   "file_extension": ".py",
   "mimetype": "text/x-python",
   "name": "python",
   "nbconvert_exporter": "python",
   "pygments_lexer": "ipython3",
   "version": "3.7.10"
  }
 },
 "nbformat": 4,
 "nbformat_minor": 2
}
